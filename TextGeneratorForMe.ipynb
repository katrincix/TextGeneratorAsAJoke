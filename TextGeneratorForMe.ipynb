{
  "nbformat": 4,
  "nbformat_minor": 0,
  "metadata": {
    "colab": {
      "provenance": [],
      "gpuType": "T4"
    },
    "kernelspec": {
      "name": "python3",
      "display_name": "Python 3"
    },
    "language_info": {
      "name": "python"
    },
    "accelerator": "GPU"
  },
  "cells": [
    {
      "cell_type": "code",
      "execution_count": null,
      "metadata": {
        "id": "i16JAebk_Ibv"
      },
      "outputs": [],
      "source": [
        "#from fastai.text.all import *"
      ]
    },
    {
      "cell_type": "code",
      "source": [
        "#txt=\"Hey, hey! It's almost a year since my last blog post. But it's a good thing it was the second to last and not the last. It's been a while since I called myself a beauty blogger (although I never really lived up to it), but it makes me feel a little bit happy to be able to write again about products I could actually recommend. \"\n",
        "#txt=\"Hey, Hey! Today was a great day!\"\n",
        "#spacy = WordTokenizer()\n",
        "\n",
        "#toks = first(spacy([txt]))\n",
        "\n",
        "#print(coll_repr(toks))"
      ],
      "metadata": {
        "id": "aEfRIHYf_uXb"
      },
      "execution_count": null,
      "outputs": []
    },
    {
      "cell_type": "code",
      "source": [
        "#tkn = Tokenizer(spacy)\n",
        "#7789bbprint(coll_repr(tkn(txt), 31))"
      ],
      "metadata": {
        "id": "ORnRNeJQCy3Z"
      },
      "execution_count": null,
      "outputs": []
    },
    {
      "cell_type": "code",
      "source": [
        "import requests\n",
        "from bs4 import BeautifulSoup\n",
        "import time\n",
        "\n",
        "\n",
        "blog_url = \"https://lienyastyle.blogspot.com/\"\n",
        "\n",
        "print(f\"--- Stage 1: Finding all post links on {blog_url} ---\")\n",
        "\n",
        "try:\n",
        "    # Fetch the main page to find links to all posts\n",
        "    response = requests.get(blog_url)\n",
        "    response.raise_for_status() # This will raise an error for bad responses (like 404)\n",
        "    soup = BeautifulSoup(response.content, 'html.parser')\n",
        "    # Find all links to individual blog posts.\n",
        "    # Blogspot post titles are very often in an <h3> tag with the class 'post-title'.\n",
        "    # Inside that is an <a> tag which has the 'href' (the URL).\n",
        "    # This selector is more specific and robust.\n",
        "    post_links = [a['href'] for a in soup.select('h3.post-title a')]\n",
        "    if not post_links:\n",
        "        print(\"\\nWARNING: Could not find any post links.\")\n",
        "        print(\"This might be because the HTML structure of your blog's theme is different.\")\n",
        "        print(\"Try inspecting your blog's homepage with your browser's developer tools to find the correct CSS selector for post links.\")\n",
        "    else:\n",
        "        print(f\"Found {len(post_links)} post links. Starting Stage 2...\")\n",
        "\n",
        "        all_text = \"\"\n",
        "        # --- Stage 2: Visiting each link and scraping its content ---\n",
        "        for i, link in enumerate(post_links):\n",
        "            try:\n",
        "                print(f\"  ({i+1}/{len(post_links)}) Scraping: {link}\")\n",
        "                post_response = requests.get(link)\n",
        "                post_response.raise_for_status()\n",
        "                post_soup = BeautifulSoup(post_response.content, 'html.parser')\n",
        "\n",
        "                # The main content is almost always in a div with the class 'post-body'.\n",
        "                # This is a standard Blogspot class name.\n",
        "                content_div = post_soup.select_one('.post-body')\n",
        "\n",
        "                if content_div:\n",
        "                    # .get_text() extracts all the text from the div and its children.\n",
        "                    # `separator=' '` ensures words are separated by spaces, not run together.\n",
        "                    # `strip=True` removes leading/trailing whitespace.\n",
        "                    content = content_div.get_text(separator=' ', strip=True)\n",
        "                    all_text += content + \"\\n\\n\" # Add two newlines to clearly separate posts\n",
        "                else:\n",
        "                    print(f\"    -> Warning: Could not find '.post-body' content on this page.\")\n",
        "\n",
        "                # Be polite to the server and wait a second between requests\n",
        "                time.sleep(1)\n",
        "\n",
        "            except requests.exceptions.RequestException as e:\n",
        "                print(f\"    -> Failed to fetch {link} due to: {e}\")\n",
        "            except Exception as e:\n",
        "                print(f\"    -> An unexpected error occurred for {link}: {e}\")\n",
        "\n",
        "        # --- Stage 3: Save the final text ---\n",
        "        if all_text:\n",
        "            with open(\"my_blog_content.txt\", \"w\", encoding=\"utf-8\") as f:\n",
        "                f.write(all_text)\n",
        "            print(\"\\nScraping complete! All full post content saved to 'my_blog_content.txt'\")\n",
        "        else:\n",
        "            print(\"\\nScraping finished, but no text was extracted.\")\n",
        "\n",
        "except requests.exceptions.RequestException as e:\n",
        "    print(f\"FATAL ERROR: Could not fetch the main blog URL: {e}\")"
      ],
      "metadata": {
        "colab": {
          "base_uri": "https://localhost:8080/"
        },
        "id": "YFQG_hthIRiE",
        "outputId": "dfaf38c8-6bb3-4e54-bb72-1a5ebfd76a34"
      },
      "execution_count": null,
      "outputs": [
        {
          "output_type": "stream",
          "name": "stdout",
          "text": [
            "--- Stage 1: Finding all post links on https://lienyastyle.blogspot.com/ ---\n",
            "Found 26 post links. Starting Stage 2...\n",
            "  (1/26) Scraping: https://lienyastyle.blogspot.com/2023/08/life-update.html\n",
            "  (2/26) Scraping: https://lienyastyle.blogspot.com/2021/01/bezglutena-citronu-tarte-ar-meringu.html\n",
            "  (3/26) Scraping: https://lienyastyle.blogspot.com/2021/01/kadel-ikvienam-vajadzetu-pastradat-par.html\n",
            "  (4/26) Scraping: https://lienyastyle.blogspot.com/2018/12/ko-neviens-neteica-pirms-ieiesanas.html\n",
            "  (5/26) Scraping: https://lienyastyle.blogspot.com/2020/01/zw-menstruala-piltuve-must-have.html\n",
            "  (6/26) Scraping: https://lienyastyle.blogspot.com/2020/02/visbiezak-lietotie-produkti-gada.html\n",
            "  (7/26) Scraping: https://lienyastyle.blogspot.com/2019/06/chapter-7-life-update.html\n",
            "  (8/26) Scraping: https://lienyastyle.blogspot.com/2018/12/visbiezak-lietotie-produkti-gada.html\n",
            "  (9/26) Scraping: https://lienyastyle.blogspot.com/2018/10/5-iecienitakie-lupu-balzami.html\n",
            "  (10/26) Scraping: https://lienyastyle.blogspot.com/2017/12/7-debijas-2017-gada.html\n",
            "  (11/26) Scraping: https://lienyastyle.blogspot.com/2017/12/kadel-butu-jasveicinas-un-ka-to-izdarit.html\n",
            "  (12/26) Scraping: https://lienyastyle.blogspot.com/2017/10/pardomas-dzivoju-pec-ne-21gs-principiem.html\n",
            "  (13/26) Scraping: https://lienyastyle.blogspot.com/2017/08/lietas-ko-sapratu-11-gadus-sezot-skolas.html\n",
            "  (14/26) Scraping: https://lienyastyle.blogspot.com/2016/09/4-ikdieniski-matu-sakartojumi-ar-odzinu.html\n",
            "  (15/26) Scraping: https://lienyastyle.blogspot.com/2016/08/24h-sevis-kopsana-augusta.html\n",
            "  (16/26) Scraping: https://lienyastyle.blogspot.com/2016/08/then-and-now-tag-20-random-jautajumi.html\n",
            "  (17/26) Scraping: https://lienyastyle.blogspot.com/2016/08/10-lietas-ko-neaizmirst-uzsakot-jauno.html\n",
            "  (18/26) Scraping: https://lienyastyle.blogspot.com/2016/08/julija-favoriti-2016.html\n",
            "  (19/26) Scraping: https://lienyastyle.blogspot.com/2016/08/birstite-sejas-mazgasanai-no-aliexpress.html\n",
            "  (20/26) Scraping: https://lienyastyle.blogspot.com/2016/08/pirma-iepazisanas-attirance-natural.html\n",
            "  (21/26) Scraping: https://lienyastyle.blogspot.com/2016/07/jekabpils-ko-darit-pilseta-kura-skiet.html\n",
            "  (22/26) Scraping: https://lienyastyle.blogspot.com/2016/07/iztuksots-junija.html\n",
            "  (23/26) Scraping: https://lienyastyle.blogspot.com/2016/06/junija-favoriti-sevis-kopsana.html\n",
            "  (24/26) Scraping: https://lienyastyle.blogspot.com/2016/06/diy-mila-davana-mammai-jubileja.html\n",
            "  (25/26) Scraping: https://lienyastyle.blogspot.com/2016/05/kapec-but-meitenei-un-braukt-ar-rolleri.html\n",
            "  (26/26) Scraping: https://lienyastyle.blogspot.com/2016/04/rutina-mati-no-pirmas-dienas-lidz.html\n",
            "\n",
            "Scraping complete! All full post content saved to 'my_blog_content.txt'\n"
          ]
        }
      ]
    },
    {
      "cell_type": "code",
      "source": [
        "# Cell 1: Setup and Data Loading\n",
        "\n",
        "from fastai.text.all import *\n",
        "\n",
        "# Load all the text you scraped from your blog into a single variable\n",
        "try:\n",
        "    with open('my_blog_content.txt', 'r', encoding='utf-8') as f:\n",
        "        text = f.read()\n",
        "    print(f\"Successfully loaded {len(text.split())} words from your blog.\")\n",
        "except FileNotFoundError:\n",
        "    print(\"ERROR: 'my_blog_content.txt' not found. Please make sure you have run the scraper and the file exists.\")\n",
        "    # You might need to upload the file manually if the scraper failed.\n",
        "\n",
        "# fastai's DataBlock API works best with a pandas DataFrame\n",
        "df = pd.DataFrame({'text': [text]})"
      ],
      "metadata": {
        "colab": {
          "base_uri": "https://localhost:8080/"
        },
        "id": "Ed-Sj1wdZZkP",
        "outputId": "3866316e-5533-4664-face-6e9c0ac31c70"
      },
      "execution_count": null,
      "outputs": [
        {
          "output_type": "stream",
          "name": "stdout",
          "text": [
            "Successfully loaded 21024 words from your blog.\n"
          ]
        }
      ]
    },
    {
      "cell_type": "code",
      "source": [
        "# Load all the text you scraped\n",
        "try:\n",
        "    with open('my_blog_content.txt', 'r', encoding='utf-8') as f:\n",
        "        # We'll treat each post as a separate document by splitting on the double newline\n",
        "        all_posts = f.read().split('\\n\\n')\n",
        "        # Filter out any empty strings that might result from the split\n",
        "        all_posts = [post for post in all_posts if post.strip()]\n",
        "    print(f\"Successfully loaded {len(all_posts)} posts.\")\n",
        "except FileNotFoundError:\n",
        "    print(\"ERROR: 'my_blog_content.txt' not found. Please make sure the file exists.\")\n",
        "    all_posts = []\n",
        "\n",
        "if len(all_posts) > 0:\n",
        "    # Create a pandas DataFrame from your list of posts\n",
        "    df = pd.DataFrame({'text': all_posts})\n",
        "\n",
        "    # --- THE FIX: Create an 'is_valid' column ---\n",
        "    # Let's use the last 3 posts (or ~10-20% of your data) for validation.\n",
        "    # This is much more reliable than a random split on a small dataset.\n",
        "    num_valid = max(1, int(len(df) * 0.2)) # Use at least 1, or 20% for validation\n",
        "    print(f\"Using {num_valid} posts for validation.\")\n",
        "\n",
        "    df['is_valid'] = False\n",
        "    df.loc[len(df)-num_valid:, 'is_valid'] = True\n",
        "\n",
        "    print(\"\\nData prepared. Here's a look at the DataFrame:\")\n",
        "    print(df.tail()) # Show the last few rows to see the 'is_valid' flag\n",
        "else:\n",
        "    print(\"No posts were loaded. Cannot proceed.\")"
      ],
      "metadata": {
        "colab": {
          "base_uri": "https://localhost:8080/"
        },
        "id": "Fj7sV5HIbmdl",
        "outputId": "6e84d780-6501-4335-f0ea-8df4c2f1b851"
      },
      "execution_count": null,
      "outputs": [
        {
          "output_type": "stream",
          "name": "stdout",
          "text": [
            "Successfully loaded 26 posts.\n",
            "Using 5 posts for validation.\n",
            "\n",
            "Data prepared. Here's a look at the DataFrame:\n",
            "                                                                                                                                                                                                                                                                                                                                                                                                                                                                                                                                                                                                                       text  \\\n",
            "21  Čau, čau! Sveiciens Jūlijā! Man jau ir tā kā ir ar to tukšo toverīšu krāšanu, negribās lai aizņem brīvo vietu un metu uzreiz ārā. Šoreiz saņēmos un sakrāju, vienīgi vienu lietu gan pus stundu meklēju, man gan bija prāta aptumsums, jo, nu nejau es izmetu... atradās zem gultas! :D Pēdējais tukšinieku raksts bija pirms diviem gadiem, un ja vēlies to apskatīt, tad spied šeit . Lady Speed Stick Fesh&Essence orhideju anti-persperants - Šo es ilgi nevarēju izlietot, jo kā bija, tā arī palika, netukšojās! Patīkama smarža, tagad man tā asociējas ar sezonu, kurā lietoju- ziema/pavasaris. Paliek uz a...   \n",
            "22  Čau, čau! Es patiesi vairs neatceros pēdējo rakstu par mēneša favorītiem... upsī. Rit jau pēdējās Jūnija dienas un  man šķiet, ka var jau rakstīt par to, kas šomēnes mani ir izglābis. Nebūt jau nav tā, ka katru mēnesi es kaut ko mainu sevis kopšanā, bet Jūnijā skaistumplauktiņu manāmi papildināju. Piebildīšu, ka šim rakstam ir jauns bilžu tips,  cits piegājiens produktu fotogrāfēšanā, tāpēc, ja patīk, tad atstāj komentāru apakšā. Produktus sadalīju vairākās kategorijās, sāksim ar ķermeņa kopšanu. Rituals cosmetics Happy Buddha Sweet Orange&Cedar dušas putas - Jau kādu laiku dušas želejas v...   \n",
            "23  Čau, čau! Pieļauju, ka lielākajai daļai cilvēku, mammas ir tuvākā persona, jo jau no bērna kājas tās mums vēl visu to labāko un uztraucās uz katra soļa. Tēti arī, bet ne šoreiz stāsts par viņiem.  Savu mammu es uzskat par visskaistāko, sievišķīgāko un mīļāko cilvēku, viņa ir mana labākā draudzene un man no viņas nav noslēpumu. Mammai vienmēr ir taisnība, kā bērnībā, tā arī tagad. Gadiem ejot un pašai augot, aug arī vēlme mammu vairāk iepriecināt, izrādīt mīlestību ne tikai ar vārdiem, bet arī darbiem, tajā skaitā dāvanām. Tāpēc šoreiz raksts par to, kā pašas rokām es iepakoju dāvanu viņai ...   \n",
            "24  Čau, čau! Kopš tētis man bērnībā nopirka kvadraciklu, ir aizsākusies mana mīlestība pret moto transportu, tāpēc šoreiz es pastāstīšu par to, kas mani patiesi aizrauj! Kā es līdz tam nonācu? Jau trīs gadus atpakaļ mans brālis, kurš ir divus gadus vecāks, izlēma iegādāties motorolleri. Tolaik vēl nebija jāliek tiesības ar braukšanu, tādēļ noliekot tik teoriju, dokuments šim jau bija rokā. Pusotru gadu pabraukājot, šis saprata, ka nepatīk, jo, kā jau labi kalpojušam spēkratam (2000. gada), sāka rasties tehniskas problēmas. Pirms mans palika 14, izlēmām mainīties- es viņam velosipēdu, viņš man...   \n",
            "25  Čau, čau! Brīvdienas pavadot slinkojot, esmu noskatījusies daaudz videoklipus par matu kopšanu, matu līdzekļiem un citām frišām lietām par un ap matiem. Iespaidojoties no tiem, es vēlējos pastāstīt par saviem produktiem, kurus laika gaitā esmu atzinusi kā labus priekš maniem matiem. Neliels apraksts par manu galvas rotu: Vēsajā periodā ļooti blaugznaini, ātri taukojas pie saknēm, turpretī paliek sausi matu galos. Nav krāsoti, nelietoju karstās ierīces kā arī fēnu. Mati ļoti elektrizējas kā ziemā, tā arī vasarā. Matus mazgāju ar šo BIODERMA šampūnu. Nosaukums laikam ir Nodé DS+ . Zvīņaina g...   \n",
            "\n",
            "    is_valid  \n",
            "21      True  \n",
            "22      True  \n",
            "23      True  \n",
            "24      True  \n",
            "25      True  \n"
          ]
        }
      ]
    },
    {
      "cell_type": "code",
      "source": [
        "if 'df' in locals():\n",
        "     # Create the DataBlock \"recipe\"\n",
        "     dls = DataBlock(\n",
        "         blocks=TextBlock.from_df('text', is_lm=True),\n",
        "         get_x=ColReader('text'),\n",
        "         splitter=ColSplitter('is_valid') # <--- Use the 'is_valid' column\n",
        "     ).dataloaders(df, bs=32, seq_len=80) # Using a smaller batch size for the small dataset\n",
        "\n",
        "     print(\"\\nDataLoaders created successfully.\")\n",
        "     print(\"Training set size:\", len(dls.train_ds))\n",
        "     print(\"Validation set size:\", len(dls.valid_ds))\n",
        "     dls.show_batch(max_n=4)\n",
        "else:\n",
        "     print(\"DataFrame not created. Please run the cell above first.\")\n"
      ],
      "metadata": {
        "colab": {
          "base_uri": "https://localhost:8080/",
          "height": 439
        },
        "id": "KOWuUitmZd15",
        "outputId": "ce3687a1-142f-4743-f0f1-ab9e2ddada95"
      },
      "execution_count": null,
      "outputs": [
        {
          "output_type": "display_data",
          "data": {
            "text/plain": [
              "<IPython.core.display.HTML object>"
            ],
            "text/html": [
              "\n",
              "<style>\n",
              "    /* Turns off some styling */\n",
              "    progress {\n",
              "        /* gets rid of default border in Firefox and Opera. */\n",
              "        border: none;\n",
              "        /* Needs to be in here for Safari polyfill so background images work as expected. */\n",
              "        background-size: auto;\n",
              "    }\n",
              "    progress:not([value]), progress:not([value])::-webkit-progress-bar {\n",
              "        background: repeating-linear-gradient(45deg, #7e7e7e, #7e7e7e 10px, #5c5c5c 10px, #5c5c5c 20px);\n",
              "    }\n",
              "    .progress-bar-interrupted, .progress-bar-interrupted::-webkit-progress-bar {\n",
              "        background: #F44336;\n",
              "    }\n",
              "</style>\n"
            ]
          },
          "metadata": {}
        },
        {
          "output_type": "display_data",
          "data": {
            "text/plain": [
              "<IPython.core.display.HTML object>"
            ],
            "text/html": []
          },
          "metadata": {}
        },
        {
          "output_type": "stream",
          "name": "stdout",
          "text": [
            "\n",
            "DataLoaders created successfully.\n",
            "Training set size: 21\n",
            "Validation set size: 5\n"
          ]
        },
        {
          "output_type": "display_data",
          "data": {
            "text/plain": [
              "<IPython.core.display.HTML object>"
            ],
            "text/html": [
              "<table border=\"1\" class=\"dataframe\">\n",
              "  <thead>\n",
              "    <tr style=\"text-align: right;\">\n",
              "      <th></th>\n",
              "      <th>text</th>\n",
              "      <th>text_</th>\n",
              "    </tr>\n",
              "  </thead>\n",
              "  <tbody>\n",
              "    <tr>\n",
              "      <th>0</th>\n",
              "      <td>xxbos čau , čau ! xxmaj vasaras sākumā kā visiem , tā arī man šķita , ka tā ies ļoti ilgi un xxup tik daudz xxunk kaut ko izdarīt . xxmaj xxunk , xxunk , dažāda xxunk , xxunk no xxunk tā arī es xxunk xxunk xxunk , bet nekā , xxunk . : d xxmaj xxunk rakstīt par xxunk lietām , jā , skola ir pēc 12 dienām un šajā laika xxunk ir tik daudz kas xxunk , lai</td>\n",
              "      <td>čau , čau ! xxmaj vasaras sākumā kā visiem , tā arī man šķita , ka tā ies ļoti ilgi un xxup tik daudz xxunk kaut ko izdarīt . xxmaj xxunk , xxunk , dažāda xxunk , xxunk no xxunk tā arī es xxunk xxunk xxunk , bet nekā , xxunk . : d xxmaj xxunk rakstīt par xxunk lietām , jā , skola ir pēc 12 dienām un šajā laika xxunk ir tik daudz kas xxunk , lai xxunk</td>\n",
              "    </tr>\n",
              "    <tr>\n",
              "      <th>1</th>\n",
              "      <td>! xxunk , cik xxunk un xxunk xxunk , bet tajā pat laikā xxunk no manas xxunk . ūdens ir xxunk dienas xxunk , katru dienu xxunk vismaz 2 - xxunk , lai xxunk būtu pietiekami xxunk . xxmaj ir jau daudz xxunk , cik xxunk ir xxunk xxunk xxunk xxunk xxunk , tāpēc vislabāk ir lietot xxunk xxunk , kā piemēram xxunk , my xxunk , vai xxunk ( tā ir xxunk un xxunk ) . xxmaj piemēram ,</td>\n",
              "      <td>xxunk , cik xxunk un xxunk xxunk , bet tajā pat laikā xxunk no manas xxunk . ūdens ir xxunk dienas xxunk , katru dienu xxunk vismaz 2 - xxunk , lai xxunk būtu pietiekami xxunk . xxmaj ir jau daudz xxunk , cik xxunk ir xxunk xxunk xxunk xxunk xxunk , tāpēc vislabāk ir lietot xxunk xxunk , kā piemēram xxunk , my xxunk , vai xxunk ( tā ir xxunk un xxunk ) . xxmaj piemēram , manā</td>\n",
              "    </tr>\n",
              "    <tr>\n",
              "      <th>2</th>\n",
              "      <td>nosaukums , tomēr xxunk kā man tās patīk saukt … xxmaj gandrīz xxunk xxmaj xxunk ir tas , ka šai xxunk xxunk no vienas xxunk xxunk - viņai mamma bija xxunk bizītes kā 3 . xxunk , un xxunk savās xxunk izdomāju pamēģināt .. xxmaj tātad sākumā mati xxunk 4 . xxunk - uz pusēm un xxunk uz pusēm . xxup tā kā frizūra tiek xxunk tikai xxunk , xxunk , xxunk matus xxunk lai xxunk . xxmaj katrā xxunk</td>\n",
              "      <td>, tomēr xxunk kā man tās patīk saukt … xxmaj gandrīz xxunk xxmaj xxunk ir tas , ka šai xxunk xxunk no vienas xxunk xxunk - viņai mamma bija xxunk bizītes kā 3 . xxunk , un xxunk savās xxunk izdomāju pamēģināt .. xxmaj tātad sākumā mati xxunk 4 . xxunk - uz pusēm un xxunk uz pusēm . xxup tā kā frizūra tiek xxunk tikai xxunk , xxunk , xxunk matus xxunk lai xxunk . xxmaj katrā xxunk xxunk</td>\n",
              "    </tr>\n",
              "    <tr>\n",
              "      <th>3</th>\n",
              "      <td>xxmaj xxunk xxmaj xxunk xxunk ir tā pati , kas nivea , tikai ar šo xxunk to produktus xxunk xxmaj vācijā . šim ir xxunk , patīkama xxunk , salda smarža un laba xxunk kādreiz xxunk xxunk ) . xxmaj es parasti ar xxunk xxunk xxunk , lieki xxunk xxunk . xxmaj lai gan xxunk , cik tas ir pret visām xxunk xxunk , xxunk problēmu to darīt , ja esmu vienīgā xxunk . xxmaj lūpu xxunk xxunk pie xxunk</td>\n",
              "      <td>xxunk xxmaj xxunk xxunk ir tā pati , kas nivea , tikai ar šo xxunk to produktus xxunk xxmaj vācijā . šim ir xxunk , patīkama xxunk , salda smarža un laba xxunk kādreiz xxunk xxunk ) . xxmaj es parasti ar xxunk xxunk xxunk , lieki xxunk xxunk . xxmaj lai gan xxunk , cik tas ir pret visām xxunk xxunk , xxunk problēmu to darīt , ja esmu vienīgā xxunk . xxmaj lūpu xxunk xxunk pie xxunk xxunk</td>\n",
              "    </tr>\n",
              "  </tbody>\n",
              "</table>"
            ]
          },
          "metadata": {}
        }
      ]
    },
    {
      "cell_type": "code",
      "source": [
        "if 'dls' in locals():\n",
        "    learn = language_model_learner(\n",
        "        dls, AWD_LSTM,\n",
        "        metrics=[accuracy, Perplexity()],\n",
        "        wd=0.1\n",
        "    ).to_fp16()\n",
        "\n",
        "    print(\"\\nLearner created. Starting the fine-tuning process...\")\n",
        "    learn.fine_tune(30,3e-1)\n",
        "else:\n",
        "    print(\"DataLoaders not created. Please run the cells above first.\")\n"
      ],
      "metadata": {
        "colab": {
          "base_uri": "https://localhost:8080/",
          "height": 1000
        },
        "id": "l0mEqHBJZma5",
        "outputId": "0ca2577b-4908-4df9-cb83-3bc64c0e42eb"
      },
      "execution_count": null,
      "outputs": [
        {
          "output_type": "stream",
          "name": "stdout",
          "text": [
            "\n",
            "Learner created. Starting the fine-tuning process...\n"
          ]
        },
        {
          "output_type": "display_data",
          "data": {
            "text/plain": [
              "<IPython.core.display.HTML object>"
            ],
            "text/html": [
              "\n",
              "<style>\n",
              "    /* Turns off some styling */\n",
              "    progress {\n",
              "        /* gets rid of default border in Firefox and Opera. */\n",
              "        border: none;\n",
              "        /* Needs to be in here for Safari polyfill so background images work as expected. */\n",
              "        background-size: auto;\n",
              "    }\n",
              "    progress:not([value]), progress:not([value])::-webkit-progress-bar {\n",
              "        background: repeating-linear-gradient(45deg, #7e7e7e, #7e7e7e 10px, #5c5c5c 10px, #5c5c5c 20px);\n",
              "    }\n",
              "    .progress-bar-interrupted, .progress-bar-interrupted::-webkit-progress-bar {\n",
              "        background: #F44336;\n",
              "    }\n",
              "</style>\n"
            ]
          },
          "metadata": {}
        },
        {
          "output_type": "display_data",
          "data": {
            "text/plain": [
              "<IPython.core.display.HTML object>"
            ],
            "text/html": [
              "<table border=\"1\" class=\"dataframe\">\n",
              "  <thead>\n",
              "    <tr style=\"text-align: left;\">\n",
              "      <th>epoch</th>\n",
              "      <th>train_loss</th>\n",
              "      <th>valid_loss</th>\n",
              "      <th>accuracy</th>\n",
              "      <th>perplexity</th>\n",
              "      <th>time</th>\n",
              "    </tr>\n",
              "  </thead>\n",
              "  <tbody>\n",
              "    <tr>\n",
              "      <td>0</td>\n",
              "      <td>5.502203</td>\n",
              "      <td>4.991991</td>\n",
              "      <td>0.180997</td>\n",
              "      <td>147.229279</td>\n",
              "      <td>00:00</td>\n",
              "    </tr>\n",
              "  </tbody>\n",
              "</table>"
            ]
          },
          "metadata": {}
        },
        {
          "output_type": "display_data",
          "data": {
            "text/plain": [
              "<IPython.core.display.HTML object>"
            ],
            "text/html": [
              "\n",
              "<style>\n",
              "    /* Turns off some styling */\n",
              "    progress {\n",
              "        /* gets rid of default border in Firefox and Opera. */\n",
              "        border: none;\n",
              "        /* Needs to be in here for Safari polyfill so background images work as expected. */\n",
              "        background-size: auto;\n",
              "    }\n",
              "    progress:not([value]), progress:not([value])::-webkit-progress-bar {\n",
              "        background: repeating-linear-gradient(45deg, #7e7e7e, #7e7e7e 10px, #5c5c5c 10px, #5c5c5c 20px);\n",
              "    }\n",
              "    .progress-bar-interrupted, .progress-bar-interrupted::-webkit-progress-bar {\n",
              "        background: #F44336;\n",
              "    }\n",
              "</style>\n"
            ]
          },
          "metadata": {}
        },
        {
          "output_type": "display_data",
          "data": {
            "text/plain": [
              "<IPython.core.display.HTML object>"
            ],
            "text/html": [
              "<table border=\"1\" class=\"dataframe\">\n",
              "  <thead>\n",
              "    <tr style=\"text-align: left;\">\n",
              "      <th>epoch</th>\n",
              "      <th>train_loss</th>\n",
              "      <th>valid_loss</th>\n",
              "      <th>accuracy</th>\n",
              "      <th>perplexity</th>\n",
              "      <th>time</th>\n",
              "    </tr>\n",
              "  </thead>\n",
              "  <tbody>\n",
              "    <tr>\n",
              "      <td>0</td>\n",
              "      <td>4.863141</td>\n",
              "      <td>4.180919</td>\n",
              "      <td>0.284892</td>\n",
              "      <td>65.425934</td>\n",
              "      <td>00:00</td>\n",
              "    </tr>\n",
              "    <tr>\n",
              "      <td>1</td>\n",
              "      <td>4.340847</td>\n",
              "      <td>4.095274</td>\n",
              "      <td>0.310133</td>\n",
              "      <td>60.055790</td>\n",
              "      <td>00:00</td>\n",
              "    </tr>\n",
              "    <tr>\n",
              "      <td>2</td>\n",
              "      <td>4.045149</td>\n",
              "      <td>4.174410</td>\n",
              "      <td>0.310375</td>\n",
              "      <td>65.001472</td>\n",
              "      <td>00:00</td>\n",
              "    </tr>\n",
              "    <tr>\n",
              "      <td>3</td>\n",
              "      <td>3.830926</td>\n",
              "      <td>4.246478</td>\n",
              "      <td>0.304779</td>\n",
              "      <td>69.858940</td>\n",
              "      <td>00:00</td>\n",
              "    </tr>\n",
              "    <tr>\n",
              "      <td>4</td>\n",
              "      <td>3.676864</td>\n",
              "      <td>4.282403</td>\n",
              "      <td>0.300310</td>\n",
              "      <td>72.414246</td>\n",
              "      <td>00:00</td>\n",
              "    </tr>\n",
              "    <tr>\n",
              "      <td>5</td>\n",
              "      <td>3.547622</td>\n",
              "      <td>4.423741</td>\n",
              "      <td>0.293520</td>\n",
              "      <td>83.407761</td>\n",
              "      <td>00:00</td>\n",
              "    </tr>\n",
              "    <tr>\n",
              "      <td>6</td>\n",
              "      <td>3.432133</td>\n",
              "      <td>4.430027</td>\n",
              "      <td>0.290338</td>\n",
              "      <td>83.933685</td>\n",
              "      <td>00:00</td>\n",
              "    </tr>\n",
              "    <tr>\n",
              "      <td>7</td>\n",
              "      <td>3.325464</td>\n",
              "      <td>4.473835</td>\n",
              "      <td>0.295887</td>\n",
              "      <td>87.692337</td>\n",
              "      <td>00:00</td>\n",
              "    </tr>\n",
              "    <tr>\n",
              "      <td>8</td>\n",
              "      <td>3.209441</td>\n",
              "      <td>4.605010</td>\n",
              "      <td>0.284961</td>\n",
              "      <td>99.983986</td>\n",
              "      <td>00:00</td>\n",
              "    </tr>\n",
              "    <tr>\n",
              "      <td>9</td>\n",
              "      <td>3.095880</td>\n",
              "      <td>4.639285</td>\n",
              "      <td>0.283100</td>\n",
              "      <td>103.470352</td>\n",
              "      <td>00:00</td>\n",
              "    </tr>\n",
              "    <tr>\n",
              "      <td>10</td>\n",
              "      <td>2.960685</td>\n",
              "      <td>4.689214</td>\n",
              "      <td>0.299219</td>\n",
              "      <td>108.767632</td>\n",
              "      <td>00:00</td>\n",
              "    </tr>\n",
              "    <tr>\n",
              "      <td>11</td>\n",
              "      <td>2.842514</td>\n",
              "      <td>4.871818</td>\n",
              "      <td>0.274563</td>\n",
              "      <td>130.558060</td>\n",
              "      <td>00:00</td>\n",
              "    </tr>\n",
              "    <tr>\n",
              "      <td>12</td>\n",
              "      <td>2.702761</td>\n",
              "      <td>5.062757</td>\n",
              "      <td>0.274035</td>\n",
              "      <td>158.025589</td>\n",
              "      <td>00:00</td>\n",
              "    </tr>\n",
              "    <tr>\n",
              "      <td>13</td>\n",
              "      <td>2.560887</td>\n",
              "      <td>5.120004</td>\n",
              "      <td>0.276677</td>\n",
              "      <td>167.335983</td>\n",
              "      <td>00:00</td>\n",
              "    </tr>\n",
              "    <tr>\n",
              "      <td>14</td>\n",
              "      <td>2.410108</td>\n",
              "      <td>5.416720</td>\n",
              "      <td>0.252608</td>\n",
              "      <td>225.139435</td>\n",
              "      <td>00:00</td>\n",
              "    </tr>\n",
              "    <tr>\n",
              "      <td>15</td>\n",
              "      <td>2.249028</td>\n",
              "      <td>5.477469</td>\n",
              "      <td>0.265901</td>\n",
              "      <td>239.240524</td>\n",
              "      <td>00:00</td>\n",
              "    </tr>\n",
              "    <tr>\n",
              "      <td>16</td>\n",
              "      <td>2.092931</td>\n",
              "      <td>5.572210</td>\n",
              "      <td>0.266418</td>\n",
              "      <td>263.014801</td>\n",
              "      <td>00:00</td>\n",
              "    </tr>\n",
              "    <tr>\n",
              "      <td>17</td>\n",
              "      <td>1.920658</td>\n",
              "      <td>5.772738</td>\n",
              "      <td>0.271978</td>\n",
              "      <td>321.416412</td>\n",
              "      <td>00:00</td>\n",
              "    </tr>\n",
              "    <tr>\n",
              "      <td>18</td>\n",
              "      <td>1.761951</td>\n",
              "      <td>5.857620</td>\n",
              "      <td>0.272610</td>\n",
              "      <td>349.890320</td>\n",
              "      <td>00:00</td>\n",
              "    </tr>\n",
              "    <tr>\n",
              "      <td>19</td>\n",
              "      <td>1.609224</td>\n",
              "      <td>5.897347</td>\n",
              "      <td>0.272105</td>\n",
              "      <td>364.070465</td>\n",
              "      <td>00:00</td>\n",
              "    </tr>\n",
              "    <tr>\n",
              "      <td>20</td>\n",
              "      <td>1.449915</td>\n",
              "      <td>6.017009</td>\n",
              "      <td>0.268784</td>\n",
              "      <td>410.349304</td>\n",
              "      <td>00:00</td>\n",
              "    </tr>\n",
              "    <tr>\n",
              "      <td>21</td>\n",
              "      <td>1.296234</td>\n",
              "      <td>6.094967</td>\n",
              "      <td>0.272036</td>\n",
              "      <td>443.619354</td>\n",
              "      <td>00:00</td>\n",
              "    </tr>\n",
              "    <tr>\n",
              "      <td>22</td>\n",
              "      <td>1.153358</td>\n",
              "      <td>6.130593</td>\n",
              "      <td>0.273610</td>\n",
              "      <td>459.708832</td>\n",
              "      <td>00:00</td>\n",
              "    </tr>\n",
              "    <tr>\n",
              "      <td>23</td>\n",
              "      <td>1.018768</td>\n",
              "      <td>6.193973</td>\n",
              "      <td>0.272645</td>\n",
              "      <td>489.787964</td>\n",
              "      <td>00:00</td>\n",
              "    </tr>\n",
              "    <tr>\n",
              "      <td>24</td>\n",
              "      <td>0.909701</td>\n",
              "      <td>6.195908</td>\n",
              "      <td>0.273690</td>\n",
              "      <td>490.736633</td>\n",
              "      <td>00:00</td>\n",
              "    </tr>\n",
              "    <tr>\n",
              "      <td>25</td>\n",
              "      <td>0.805210</td>\n",
              "      <td>6.214314</td>\n",
              "      <td>0.276298</td>\n",
              "      <td>499.852722</td>\n",
              "      <td>00:00</td>\n",
              "    </tr>\n",
              "    <tr>\n",
              "      <td>26</td>\n",
              "      <td>0.716008</td>\n",
              "      <td>6.223276</td>\n",
              "      <td>0.278516</td>\n",
              "      <td>504.352844</td>\n",
              "      <td>00:00</td>\n",
              "    </tr>\n",
              "    <tr>\n",
              "      <td>27</td>\n",
              "      <td>0.644534</td>\n",
              "      <td>6.215817</td>\n",
              "      <td>0.274621</td>\n",
              "      <td>500.604797</td>\n",
              "      <td>00:00</td>\n",
              "    </tr>\n",
              "    <tr>\n",
              "      <td>28</td>\n",
              "      <td>0.580711</td>\n",
              "      <td>6.217037</td>\n",
              "      <td>0.275299</td>\n",
              "      <td>501.215790</td>\n",
              "      <td>00:00</td>\n",
              "    </tr>\n",
              "    <tr>\n",
              "      <td>29</td>\n",
              "      <td>0.523175</td>\n",
              "      <td>6.217102</td>\n",
              "      <td>0.275103</td>\n",
              "      <td>501.248535</td>\n",
              "      <td>00:00</td>\n",
              "    </tr>\n",
              "  </tbody>\n",
              "</table>"
            ]
          },
          "metadata": {}
        }
      ]
    },
    {
      "cell_type": "code",
      "source": [
        "# Cell 4: Generate New Text\n",
        "\n",
        "# Save your model's learned style for later use\n",
        "learn.save('my_blog_style_model')\n",
        "\n",
        "print(\"\\n--- Model is ready to generate text! ---\")\n",
        "\n",
        "# Add this to the top of your text generation cell to hide the warnings\n",
        "import warnings\n",
        "warnings.simplefilter(action='ignore', category=FutureWarning)\n",
        "\n",
        "# A shorter prompt\n",
        "prompt = \"Man tiešām ļoti patīk\"\n",
        "num_words = 50\n",
        "\n",
        "print(\"- higher temperature (more creative)\")\n",
        "print(learn.predict(prompt, n_words=num_words, temperature=0.9))\n",
        "\n",
        "print(\"\\n- lower temperature (more focused)\")\n",
        "print(learn.predict(prompt, n_words=num_words, temperature=0.6))"
      ],
      "metadata": {
        "colab": {
          "base_uri": "https://localhost:8080/",
          "height": 153
        },
        "id": "al2eJ7z7Z4wS",
        "outputId": "e6454cff-922b-4180-9b92-c603782dc882"
      },
      "execution_count": null,
      "outputs": [
        {
          "output_type": "stream",
          "name": "stdout",
          "text": [
            "\n",
            "--- Model is ready to generate text! ---\n",
            "- higher temperature (more creative)\n"
          ]
        },
        {
          "output_type": "display_data",
          "data": {
            "text/plain": [
              "<IPython.core.display.HTML object>"
            ],
            "text/html": [
              "\n",
              "<style>\n",
              "    /* Turns off some styling */\n",
              "    progress {\n",
              "        /* gets rid of default border in Firefox and Opera. */\n",
              "        border: none;\n",
              "        /* Needs to be in here for Safari polyfill so background images work as expected. */\n",
              "        background-size: auto;\n",
              "    }\n",
              "    progress:not([value]), progress:not([value])::-webkit-progress-bar {\n",
              "        background: repeating-linear-gradient(45deg, #7e7e7e, #7e7e7e 10px, #5c5c5c 10px, #5c5c5c 20px);\n",
              "    }\n",
              "    .progress-bar-interrupted, .progress-bar-interrupted::-webkit-progress-bar {\n",
              "        background: #F44336;\n",
              "    }\n",
              "</style>\n"
            ]
          },
          "metadata": {}
        },
        {
          "output_type": "display_data",
          "data": {
            "text/plain": [
              "<IPython.core.display.HTML object>"
            ],
            "text/html": []
          },
          "metadata": {}
        },
        {
          "output_type": "stream",
          "name": "stdout",
          "text": [
            "Man tiešām ļoti patīk joprojām , ka man jau sāka 15 žēl , jo visu laiku meklē patiešām labu balzāmu no mīļākās . No šiem vislabāk man patika Paralēli , jo tā kā man  ▁ patīk šis skropstu produktiem , kā rezultātā kosmētika nonāca ātrāk un vieglāk . Taču nu esmu\n",
            "\n",
            "- lower temperature (more focused)\n"
          ]
        },
        {
          "output_type": "display_data",
          "data": {
            "text/plain": [
              "<IPython.core.display.HTML object>"
            ],
            "text/html": [
              "\n",
              "<style>\n",
              "    /* Turns off some styling */\n",
              "    progress {\n",
              "        /* gets rid of default border in Firefox and Opera. */\n",
              "        border: none;\n",
              "        /* Needs to be in here for Safari polyfill so background images work as expected. */\n",
              "        background-size: auto;\n",
              "    }\n",
              "    progress:not([value]), progress:not([value])::-webkit-progress-bar {\n",
              "        background: repeating-linear-gradient(45deg, #7e7e7e, #7e7e7e 10px, #5c5c5c 10px, #5c5c5c 20px);\n",
              "    }\n",
              "    .progress-bar-interrupted, .progress-bar-interrupted::-webkit-progress-bar {\n",
              "        background: #F44336;\n",
              "    }\n",
              "</style>\n"
            ]
          },
          "metadata": {}
        },
        {
          "output_type": "display_data",
          "data": {
            "text/plain": [
              "<IPython.core.display.HTML object>"
            ],
            "text/html": []
          },
          "metadata": {}
        },
        {
          "output_type": "stream",
          "name": "stdout",
          "text": [
            "Man tiešām ļoti patīk joprojām , ka man patīk matemātika , nedaudz tīra . JĀ , es ikdienā patīkams , un man pašai ir savs dzīves . Taču , lai arī ko es vienmēr ir viena no precēm , kura ir vienkārši lieliska par Jēkabpili , ja arī mani jauka ilgāk\n"
          ]
        }
      ]
    },
    {
      "cell_type": "code",
      "source": [
        "vocab = dls.vocab\n",
        "print(f\"The vocabulary contains {len(vocab)} unique tokens.\")"
      ],
      "metadata": {
        "colab": {
          "base_uri": "https://localhost:8080/"
        },
        "id": "U5z2qGWsnH8p",
        "outputId": "d2563c24-b2bb-474a-e10a-caeadd50ec9b"
      },
      "execution_count": null,
      "outputs": [
        {
          "output_type": "stream",
          "name": "stdout",
          "text": [
            "The vocabulary contains 1240 unique tokens.\n"
          ]
        }
      ]
    },
    {
      "cell_type": "code",
      "source": [
        "\n",
        "print(\"First 30 tokens in the vocabulary:\")\n",
        "print(vocab[:30])"
      ],
      "metadata": {
        "colab": {
          "base_uri": "https://localhost:8080/"
        },
        "id": "jdmy86Vjncoz",
        "outputId": "fb42157c-959a-47a8-eed3-3b96f4b5991a"
      },
      "execution_count": null,
      "outputs": [
        {
          "output_type": "stream",
          "name": "stdout",
          "text": [
            "First 30 tokens in the vocabulary:\n",
            "['xxunk', 'xxpad', 'xxbos', 'xxeos', 'xxfld', 'xxrep', 'xxwrep', 'xxup', 'xxmaj', ',', '.', 'un', 'ir', 'es', 'ka', 'ar', 'bet', 'man', '-', 'kā', 'par', 'to', ')', 'no', 'arī', 'jo', 'tā', 'uz', 'tas', 'ja']\n"
          ]
        }
      ]
    },
    {
      "cell_type": "code",
      "source": [
        "word = vocab[170]\n",
        "print(f\"The word at index 50 is: '{word}'\")"
      ],
      "metadata": {
        "colab": {
          "base_uri": "https://localhost:8080/"
        },
        "id": "DuYyEBElnq_2",
        "outputId": "faa1d084-de45-48d2-fad8-23fb8e6c51a1"
      },
      "execution_count": null,
      "outputs": [
        {
          "output_type": "stream",
          "name": "stdout",
          "text": [
            "The word at index 50 is: 'vietā'\n"
          ]
        }
      ]
    },
    {
      "cell_type": "code",
      "source": [],
      "metadata": {
        "id": "uusWBkY1n-zj"
      },
      "execution_count": null,
      "outputs": []
    }
  ]
}